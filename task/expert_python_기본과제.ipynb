{
 "cells": [
  {
   "cell_type": "markdown",
   "id": "71e15569",
   "metadata": {},
   "source": [
    "### 로또 번호 생성기\n",
    "\n",
    "- input 함수로 사용자 입력을 받아, 총 6개의 숫자를 만들어줍니다.\n",
    "\n",
    "- 사용자 입력은 모든 자연수가 가능하며, 아무 자연수 6개를 골라서 콤마(',')를 기준으로 순서대로 입력합니다.\n",
    "\n",
    "- 입력은 한번만 받으며, 들어온 입력을 처리해서 모든 숫자가 1 ~ 45 사이의 숫자가 되는 코드를 작성해보세요.\n",
    "\n",
    "- 코드는 주어진 함수 make_lotto_number를 완성하는 것으로 합니다.\n",
    "\n",
    "- 자세한 예시는 아래 실행 예시를 참고하세요.\n",
    "\n",
    "\n",
    "\n",
    "> **만약에, 입력에 대해서 생성한 6개의 번호중에 중복이 존재한다면 둘 중에 큰 숫자에 +1을 해서 다르게 만들어줍니다.\n",
    "> 이 때, +1을 해서 45를 넘어가게 된다면 숫자 1로 변환해줍니다.**"
   ]
  },
  {
   "cell_type": "code",
   "execution_count": 1,
   "id": "072d1dd2",
   "metadata": {},
   "outputs": [],
   "source": [
    "# 로또 번호 생성\n",
    "def make_lotto_number(string):\n",
    "    \"\"\"\n",
    "    input 함수를 통해 입력받은 변수를 string이라는 parameter로 넘겨줍니다.\n",
    "    해당 string을 처리하여 6개의 1 ~ 45 사이의 숫자를 가지는 리스트를 만들어서 return 합니다.\n",
    "    \"\"\"\n",
    "    # ,를 기준으로 잘라서 list\n",
    "    str_list = string.split(',')\n",
    "    \n",
    "    # string을 1~45 사이의 숫자로\n",
    "    number_list = []\n",
    "    origin_list = []\n",
    "    for str in str_list:\n",
    "        origin_list.append(int(str))\n",
    "        number_list.append(int(str) %46)\n",
    "    \n",
    "    # 중복값이 있을 경우\n",
    "    while is_overlap(number_list):\n",
    "        number_list = make_set(origin_list, number_list)\n",
    "    \n",
    "    return number_list"
   ]
  },
  {
   "cell_type": "code",
   "execution_count": 2,
   "id": "dd34aa64",
   "metadata": {},
   "outputs": [],
   "source": [
    "# 중복 유무 판단\n",
    "def is_overlap(number_list):\n",
    "    number_set = set(number_list)\n",
    "    \n",
    "    # 중복값 없음\n",
    "    if len(number_set) == 6:\n",
    "        return False\n",
    "    # 중복값 있음\n",
    "    else:\n",
    "        return True"
   ]
  },
  {
   "cell_type": "code",
   "execution_count": 3,
   "id": "d910b5cc",
   "metadata": {},
   "outputs": [],
   "source": [
    "# 중복값 변환\n",
    "def make_set(origin_list, number_list):\n",
    "    for i in range(6):\n",
    "        overlap_list = []\n",
    "        # 중복값 탐색\n",
    "        for j in range(i+1, 6):\n",
    "            if number_list[i] == number_list[j]:\n",
    "                overlap_list.append(j)\n",
    "        \n",
    "        # 중복값이 1개\n",
    "        if len(overlap_list) == 1:\n",
    "            # 둘 중 원래 값이 큰 숫자에 +1\n",
    "            if origin_list[i] > origin_list[overlap_list[0]]:\n",
    "                number_list[i] += 1\n",
    "            else :\n",
    "                number_list[overlap_list[0]] += 1\n",
    "        \n",
    "        # 중복값이 2개 이상\n",
    "        elif len(overlap_list) >= 2:\n",
    "            # 앞에서부터 순서대로 +1씩\n",
    "            cnt = 1\n",
    "            for k in overlap_list:\n",
    "                number_list[k] += cnt\n",
    "                cnt += 1\n",
    "    \n",
    "    return number_list\n",
    "        "
   ]
  },
  {
   "cell_type": "code",
   "execution_count": 4,
   "id": "969bbc7f",
   "metadata": {},
   "outputs": [
    {
     "name": "stdout",
     "output_type": "stream",
     "text": [
      "4151361,13597019,222,123315,4,13516\n",
      "[45, 17, 38, 35, 4, 39]\n"
     ]
    }
   ],
   "source": [
    "# 사용자 입력 받아서 출력\n",
    "print(make_lotto_number(input()))"
   ]
  },
  {
   "cell_type": "code",
   "execution_count": 5,
   "id": "e561cb0c",
   "metadata": {},
   "outputs": [
    {
     "name": "stdout",
     "output_type": "stream",
     "text": [
      "[45, 17, 38, 35, 4, 39]\n"
     ]
    }
   ],
   "source": [
    "# 테스트 1\n",
    "print(make_lotto_number('4151361,13597019,222,123315,4,13516')) # 45, 17, 38, 35, 4, 39"
   ]
  },
  {
   "cell_type": "code",
   "execution_count": 6,
   "id": "244e3177",
   "metadata": {},
   "outputs": [
    {
     "name": "stdout",
     "output_type": "stream",
     "text": [
      "[41, 44, 1, 34, 25, 22]\n"
     ]
    }
   ],
   "source": [
    "# 테스트 2\n",
    "print(make_lotto_number('1370519,12970,1,4747475758,8079013768590167835917,22')) # 41, 44, 1, 34, 25, 22"
   ]
  },
  {
   "cell_type": "code",
   "execution_count": 7,
   "id": "91c64660",
   "metadata": {},
   "outputs": [
    {
     "name": "stdout",
     "output_type": "stream",
     "text": [
      "[31, 28, 7, 8, 33, 9]\n"
     ]
    }
   ],
   "source": [
    "# 테스트 3\n",
    "print(make_lotto_number('17239407190457, 178278, 1111, 14595971035597, 33, 55')) # 31, 28, 7, 8, 33, 9"
   ]
  },
  {
   "cell_type": "code",
   "execution_count": 8,
   "id": "0747cc38",
   "metadata": {},
   "outputs": [
    {
     "name": "stdout",
     "output_type": "stream",
     "text": [
      "[22, 23, 24, 25, 26, 27]\n"
     ]
    }
   ],
   "source": [
    "# 테스트 4\n",
    "print(make_lotto_number('22, 22, 22, 22, 22, 22')) # 22, 23, 24, 25, 26, 27"
   ]
  }
 ],
 "metadata": {
  "kernelspec": {
   "display_name": "Python 3 (ipykernel)",
   "language": "python",
   "name": "python3"
  },
  "language_info": {
   "codemirror_mode": {
    "name": "ipython",
    "version": 3
   },
   "file_extension": ".py",
   "mimetype": "text/x-python",
   "name": "python",
   "nbconvert_exporter": "python",
   "pygments_lexer": "ipython3",
   "version": "3.11.5"
  }
 },
 "nbformat": 4,
 "nbformat_minor": 5
}
